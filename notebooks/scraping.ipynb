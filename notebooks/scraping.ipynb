{
 "cells": [
  {
   "cell_type": "code",
   "execution_count": 7,
   "id": "51ecd4c4",
   "metadata": {},
   "outputs": [],
   "source": [
    "import pandas as pd\n",
    "import numpy as np\n",
    "import requests\n",
    "from bs4 import BeautifulSoup as bs"
   ]
  },
  {
   "cell_type": "code",
   "execution_count": 8,
   "id": "f2136ec5",
   "metadata": {},
   "outputs": [
    {
     "data": {
      "text/plain": [
       "{'title': '星辰之主',\n",
       " 'author': '减肥专家',\n",
       " 'tags': ['连载中', '科幻', '星空', '未来高武', '伪科幻'],\n",
       " 'serial_status': '连载中',\n",
       " 'category': '科幻',\n",
       " 'word_count': '7515798'}"
      ]
     },
     "execution_count": 8,
     "metadata": {},
     "output_type": "execute_result"
    }
   ],
   "source": [
    "def scrape_zongheng(url):\n",
    "    response = requests.get(url)\n",
    "    soup = bs(response.content, \"html.parser\")\n",
    "    title = soup.find(\"div\", attrs={\"class\": \"book-info--title\"}).get_text(strip=True)\n",
    "    div_tags = soup.find(\"div\", attrs={\"class\": \"book-info--tags\"})\n",
    "    tags = []\n",
    "    serial_status = None\n",
    "    category = None\n",
    "    for span in div_tags.find_all(\"span\"):\n",
    "        try:\n",
    "            if span[\"class\"][0] == \"serialStatus\":\n",
    "                # serial_status = \"ongoing\" if span.get_text(strip=True) == \"连载中\" else \"completed\"\n",
    "                serial_status = span.get_text(strip=True)\n",
    "                tags.append(serial_status)\n",
    "            elif span[\"class\"][0] == \"cateFineId\":\n",
    "                category = span.get_text(strip=True)\n",
    "                tags.append(category)\n",
    "        except KeyError:\n",
    "            tags.append(span.get_text(strip=True))\n",
    "    recent_chapter_info = soup.find(\n",
    "        \"div\", attrs={\"class\": \"book-info--chapter-name\"}\n",
    "    ).find(\n",
    "        \"a\", attrs={\"class\": \"global-hover\"}\n",
    "    )\n",
    "    word_count = recent_chapter_info[\"title\"].split(\"字数：\")[1].split()[0]\n",
    "    author = soup.find(\"a\", attrs={\"class\": \"author-info--name\"}).get_text(strip=True)\n",
    "    return {\n",
    "        \"title\": title,\n",
    "        \"author\": author,\n",
    "        \"tags\": tags,\n",
    "        \"serial_status\": serial_status,\n",
    "        \"category\": category,\n",
    "        \"word_count\": word_count,\n",
    "    }\n",
    "\n",
    "scrape_zongheng(\"https://www.zongheng.com/detail/325639\")"
   ]
  },
  {
   "cell_type": "code",
   "execution_count": 9,
   "id": "00ca7ced",
   "metadata": {},
   "outputs": [
    {
     "data": {
      "text/plain": [
       "{'title': '见春天',\n",
       " 'author': '纵虎嗅花',\n",
       " 'tags': ['原创', '言情', '近代现代', '爱情', '完结', '花季雨季', '情有独钟', '阴差阳错', '校园', '正剧'],\n",
       " 'serial_status': '完结',\n",
       " 'category': None,\n",
       " 'word_count': 191449}"
      ]
     },
     "execution_count": 9,
     "metadata": {},
     "output_type": "execute_result"
    }
   ],
   "source": [
    "def scrape_jjwxc(url):\n",
    "    response = requests.get(url)\n",
    "    soup = bs(response.content, \"html.parser\")\n",
    "    title = soup.find(\"span\", attrs={\"itemprop\": \"articleSection\"}).get_text(strip=True)\n",
    "    tags = soup.find(\"span\", attrs={\"itemprop\": \"genre\"}).get_text(strip=True).split(\"-\")\n",
    "    serial_status = soup.find(\"span\", attrs={\"itemprop\": \"updataStatus\"}).get_text(strip=True)\n",
    "    word_count = int(soup.find(\"span\", attrs={\"itemprop\": \"wordCount\"}).get_text(strip=True)[:-1])\n",
    "    tags.append(serial_status)\n",
    "    extra_tags = soup.find_all(\"div\", attrs={\"class\": \"smallreadbody\"})\n",
    "    for div in extra_tags:\n",
    "        if div.find(\"span\") is not None:\n",
    "            extra = div.find_all(\"a\", attrs={\"style\": \"text-decoration:none;color: red;\"})\n",
    "            for a in extra:\n",
    "                tags.append(a.get_text(strip=True))\n",
    "    author = soup.find(\"span\", attrs={\"itemprop\": \"author\"}).get_text(strip=True)\n",
    "    return {\n",
    "        \"title\": title,\n",
    "        \"author\": author,\n",
    "        \"tags\": tags,\n",
    "        \"serial_status\": serial_status,\n",
    "        \"category\": None,\n",
    "        \"word_count\": word_count,\n",
    "    }\n",
    "\n",
    "scrape_jjwxc(\"https://www.jjwxc.net/onebook.php?novelid=6079968\")"
   ]
  },
  {
   "cell_type": "code",
   "execution_count": 10,
   "id": "4a60d74a",
   "metadata": {},
   "outputs": [],
   "source": [
    "def scrape_17k(url):\n",
    "    response = requests.get(url)\n",
    "    soup = bs(response.content, \"html.parser\")"
   ]
  },
  {
   "cell_type": "code",
   "execution_count": 11,
   "id": "6b9a7439",
   "metadata": {},
   "outputs": [],
   "source": [
    "def scrape_qidian(url):\n",
    "    response = requests.get(url)\n",
    "    soup = bs(response.content, \"html.parser\")"
   ]
  },
  {
   "cell_type": "code",
   "execution_count": 26,
   "id": "5ef4c1f0",
   "metadata": {},
   "outputs": [],
   "source": [
    "syosetu_genre_map = {\n",
    "    0: \"未選択〔未選択〕\",\n",
    "    101: \"異世界〔恋愛〕\",\n",
    "    102: \"現実世界〔恋愛〕\",\n",
    "    201: \"ハイファンタジー〔ファンタジー〕\",\n",
    "    202: \"ローファンタジー〔ファンタジー〕\",\n",
    "    301: \"純文学〔文芸〕\",\n",
    "    302: \"ヒューマンドラマ〔文芸〕\",\n",
    "    303: \"歴史〔文芸〕\",\n",
    "    304: \"推理〔文芸〕\",\n",
    "    305: \"ホラー〔文芸〕\",\n",
    "    306: \"アクション〔文芸〕\",\n",
    "    307: \"コメディー〔文芸〕\",\n",
    "    401: \"VRゲーム〔SF〕\",\n",
    "    402: \"宇宙〔SF〕\",\n",
    "    403: \"空想科学〔SF〕\",\n",
    "    404: \"パニック〔SF〕\",\n",
    "    9901: \"童話〔その他〕\",\n",
    "    9902: \"詩〔その他〕\",\n",
    "    9903: \"エッセイ〔その他〕\",\n",
    "    9904: \"リプレイ〔その他〕\",\n",
    "    9999: \"その他〔その他〕\",\n",
    "    9801: \"ノンジャンル〔ノンジャンル〕\",\n",
    "}\n",
    "\n",
    "syosetsu_nocgenre_map = {\n",
    "    1: \"ノクターンノベルズ(男性向け)\",\n",
    "    2: \"ムーンライトノベルズ(女性向け)\",\n",
    "    3: \"ムーンライトノベルズ(BL)\",\n",
    "    4: \"ミッドナイトノベルズ(大人向け)\",\n",
    "}\n",
    "\n",
    "def syosetsu(ncode):\n",
    "    response = requests.get(f\"https://api.syosetu.com/novelapi/api/?out=json&ncode={ncode}\").json()[1]\n",
    "    return_me = {\n",
    "        \"title\": response[\"title\"],\n",
    "        \"tags\": response[\"keyword\"].split(),\n",
    "        \"author\": response[\"writer\"],\n",
    "        \"chapters\": response[\"general_all_no\"],\n",
    "        \"word_count\": response[\"length\"],\n",
    "        \"published_at\": response[\"general_firstup\"],\n",
    "        \"serial_status\": \"連載中\" if response[\"novel_type\"] == 1 and response[\"end\"] == 1 else \"完結済\",\n",
    "        \"category\": syosetu_genre_map[response[\"genre\"]],\n",
    "    }\n",
    "    return_me[\"tags\"].append(return_me[\"category\"])\n",
    "    return return_me\n",
    "\n",
    "def syosetsu_r18(ncode):\n",
    "    response = requests.get(f\"https://api.syosetu.com/novel18api/api/?out=json&ncode={ncode}\").json()[1]\n",
    "    return_me = {\n",
    "        \"title\": response[\"title\"],\n",
    "        \"tags\": response[\"keyword\"].split(),\n",
    "        \"author\": response[\"writer\"],\n",
    "        \"chapters\": response[\"general_all_no\"],\n",
    "        \"word_count\": response[\"length\"],\n",
    "        \"published_at\": response[\"general_firstup\"],\n",
    "        \"serial_status\": \"連載中\" if response[\"novel_type\"] == 1 and response[\"end\"] == 1 else \"完結済\",\n",
    "        \"category\": syosetsu_nocgenre_map[response[\"nocgenre\"]],\n",
    "    }\n",
    "    return_me[\"tags\"].append(return_me[\"category\"])\n",
    "    return return_me"
   ]
  },
  {
   "cell_type": "code",
   "execution_count": 18,
   "id": "098529c4",
   "metadata": {},
   "outputs": [
    {
     "data": {
      "text/plain": [
       "{'title': '異界冒険譚',\n",
       " 'tags': ['異世界転移',\n",
       "  'ギャグ',\n",
       "  'シリアス',\n",
       "  'ほのぼの',\n",
       "  '男主人公',\n",
       "  '冒険',\n",
       "  '日常',\n",
       "  'ハッピーエンド',\n",
       "  'ラブコメ',\n",
       "  'バトル',\n",
       "  '聖女',\n",
       "  'ハイファンタジー〔ファンタジー〕'],\n",
       " 'author': 'とーふ',\n",
       " 'chapters': 272,\n",
       " 'word_count': 846366,\n",
       " 'published_at': '2025-01-01 18:10:00',\n",
       " 'serial_status': '連載中',\n",
       " 'category': 'ハイファンタジー〔ファンタジー〕'}"
      ]
     },
     "execution_count": 18,
     "metadata": {},
     "output_type": "execute_result"
    }
   ],
   "source": [
    "syosetsu(\"n7466jx\")"
   ]
  },
  {
   "cell_type": "code",
   "execution_count": 17,
   "id": "5ae96235",
   "metadata": {},
   "outputs": [
    {
     "data": {
      "text/plain": [
       "{'title': 'とんずらした兄のことは許さないけれど、兄の元婚約者と幸せな家庭を築いた僕の話。',\n",
       " 'tags': ['アイリスIF7大賞',\n",
       "  '貴族',\n",
       "  '鉄道',\n",
       "  '恋愛',\n",
       "  '結婚',\n",
       "  '婚約破棄',\n",
       "  '駆け落ち',\n",
       "  'プロポーズ',\n",
       "  '円満',\n",
       "  '異世界〔恋愛〕'],\n",
       " 'author': '葵ふたば',\n",
       " 'chapters': 1,\n",
       " 'word_count': 18632,\n",
       " 'published_at': '2025-09-19 09:53:42',\n",
       " 'serial_status': '完結済',\n",
       " 'category': '異世界〔恋愛〕'}"
      ]
     },
     "execution_count": 17,
     "metadata": {},
     "output_type": "execute_result"
    }
   ],
   "source": [
    "# Short stories only have 1 chapter and their serial status will just be marked as completed\n",
    "syosetsu(\"n1145lc\")"
   ]
  },
  {
   "cell_type": "code",
   "execution_count": 27,
   "id": "e2131540",
   "metadata": {},
   "outputs": [
    {
     "data": {
      "text/plain": [
       "{'title': '王太子妃になんてなりたくない！！',\n",
       " 'tags': ['残酷な描写あり',\n",
       "  '異世界転生',\n",
       "  '異世界転移',\n",
       "  'ハッピーエンド',\n",
       "  'R15',\n",
       "  'ファンタジー',\n",
       "  '恋愛',\n",
       "  '美形',\n",
       "  '女性視点',\n",
       "  '処女',\n",
       "  '王子',\n",
       "  '執着',\n",
       "  'らぶえっち',\n",
       "  '溺愛',\n",
       "  '男性視点',\n",
       "  '腹黒',\n",
       "  'ときどきコメディ',\n",
       "  '絶倫',\n",
       "  'ムーンライトノベルズ(女性向け)'],\n",
       " 'author': '月神サキ',\n",
       " 'chapters': 814,\n",
       " 'word_count': 2883021,\n",
       " 'published_at': '2014-09-24 16:58:30',\n",
       " 'serial_status': '連載中',\n",
       " 'category': 'ムーンライトノベルズ(女性向け)'}"
      ]
     },
     "execution_count": 27,
     "metadata": {},
     "output_type": "execute_result"
    }
   ],
   "source": [
    "syosetsu_r18(\"n6752ch\")"
   ]
  }
 ],
 "metadata": {
  "kernelspec": {
   "display_name": "notebooks",
   "language": "python",
   "name": "python3"
  },
  "language_info": {
   "codemirror_mode": {
    "name": "ipython",
    "version": 3
   },
   "file_extension": ".py",
   "mimetype": "text/x-python",
   "name": "python",
   "nbconvert_exporter": "python",
   "pygments_lexer": "ipython3",
   "version": "3.13.7"
  }
 },
 "nbformat": 4,
 "nbformat_minor": 5
}
