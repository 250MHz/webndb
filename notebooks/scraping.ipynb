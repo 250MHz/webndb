{
 "cells": [
  {
   "cell_type": "code",
   "execution_count": null,
   "id": "51ecd4c4",
   "metadata": {},
   "outputs": [],
   "source": [
    "import pandas as pd\n",
    "import numpy as np\n",
    "import requests\n",
    "from selenium import webdriver\n",
    "from selenium.webdriver.chrome.options import Options\n",
    "from bs4 import BeautifulSoup as bs"
   ]
  },
  {
   "cell_type": "markdown",
   "id": "f34a090f",
   "metadata": {},
   "source": [
    "# Chinese"
   ]
  },
  {
   "cell_type": "code",
   "execution_count": 46,
   "id": "f2136ec5",
   "metadata": {},
   "outputs": [
    {
     "data": {
      "text/plain": [
       "{'title': '星辰之主',\n",
       " 'author': '减肥专家',\n",
       " 'tags': ['连载中', '科幻', '星空', '未来高武', '伪科幻'],\n",
       " 'category': '科幻',\n",
       " 'serial_status': '连载中',\n",
       " 'word_count': '7520169',\n",
       " 'publication_date': None,\n",
       " 'synopsis': None}"
      ]
     },
     "execution_count": 46,
     "metadata": {},
     "output_type": "execute_result"
    }
   ],
   "source": [
    "def scrape_zongheng(url):\n",
    "    response = requests.get(url)\n",
    "    soup = bs(response.content, \"html.parser\")\n",
    "    title = soup.find(\"div\", attrs={\"class\": \"book-info--title\"}).get_text(strip=True)\n",
    "    div_tags = soup.find(\"div\", attrs={\"class\": \"book-info--tags\"})\n",
    "    tags = []\n",
    "    serial_status = None\n",
    "    category = None\n",
    "    for span in div_tags.find_all(\"span\"):\n",
    "        try:\n",
    "            if span[\"class\"][0] == \"serialStatus\":\n",
    "                # serial_status = \"ongoing\" if span.get_text(strip=True) == \"连载中\" else \"completed\"\n",
    "                serial_status = span.get_text(strip=True)\n",
    "                tags.append(serial_status)\n",
    "            elif span[\"class\"][0] == \"cateFineId\":\n",
    "                category = span.get_text(strip=True)\n",
    "                tags.append(category)\n",
    "        except KeyError:\n",
    "            tags.append(span.get_text(strip=True))\n",
    "    recent_chapter_info = soup.find(\n",
    "        \"div\", attrs={\"class\": \"book-info--chapter-name\"}\n",
    "    ).find(\n",
    "        \"a\", attrs={\"class\": \"global-hover\"}\n",
    "    )\n",
    "    word_count = recent_chapter_info[\"title\"].split(\"字数：\")[1].split()[0]\n",
    "    author = soup.find(\"a\", attrs={\"class\": \"author-info--name\"}).get_text(strip=True)\n",
    "    return {\n",
    "        \"title\": title,\n",
    "        \"author\": author,\n",
    "        \"tags\": tags,\n",
    "        \"category\": category,\n",
    "        \"serial_status\": serial_status,\n",
    "        \"word_count\": word_count,\n",
    "        \"publication_date\": None,\n",
    "        \"synopsis\": None,\n",
    "    }\n",
    "\n",
    "scrape_zongheng(\"https://www.zongheng.com/detail/325639\")"
   ]
  },
  {
   "cell_type": "code",
   "execution_count": 54,
   "id": "73be920c",
   "metadata": {},
   "outputs": [
    {
     "data": {
      "text/plain": [
       "{'title': '星辰之主',\n",
       " 'author': '减肥专家',\n",
       " 'tags': ['连载中', '科幻', '星空', '未来高武', '伪科幻'],\n",
       " 'category': '科幻',\n",
       " 'serial_status': '连载中',\n",
       " 'word_count': '7520169',\n",
       " 'publication_date': None,\n",
       " 'synopsis': '世纪之交，人类懵懂着踏入星空，就此暴露在诸神的视线之下。少年罗南背负着祖父的罪孽，走出实验室，且看他：\\n高举燃烧的笔记，脚踏诸神的尸骨；\\n书写万物的格式，增删宇宙的星图。\\n当知：万物皆备于我；必信：吾心即是宇宙。'}"
      ]
     },
     "execution_count": 54,
     "metadata": {},
     "output_type": "execute_result"
    }
   ],
   "source": [
    "def scrape_zongheng_with_intro(url):\n",
    "    options = Options()\n",
    "    options.add_argument(\"--window-size=1920,1200\")\n",
    "    options.add_argument('--headless')\n",
    "    options.add_argument(\"--silent\")\n",
    "\n",
    "    try:\n",
    "        with webdriver.Chrome(options=options) as driver:\n",
    "            driver.get(url)\n",
    "            page_source = driver.page_source\n",
    "    except Exception as e:\n",
    "        print(f\"Error while getting page source from {url}. Error: {e}\")\n",
    "        raise e\n",
    "    soup = bs(page_source, \"html.parser\")\n",
    "    title = soup.find(\"div\", attrs={\"class\": \"book-info--title\"}).get_text(strip=True)\n",
    "    div_tags = soup.find(\"div\", attrs={\"class\": \"book-info--tags\"})\n",
    "    tags = []\n",
    "    serial_status = None\n",
    "    category = None\n",
    "    for span in div_tags.find_all(\"span\"):\n",
    "        try:\n",
    "            if span[\"class\"][0] == \"serialStatus\":\n",
    "                # serial_status = \"ongoing\" if span.get_text(strip=True) == \"连载中\" else \"completed\"\n",
    "                serial_status = span.get_text(strip=True)\n",
    "                tags.append(serial_status)\n",
    "            elif span[\"class\"][0] == \"cateFineId\":\n",
    "                category = span.get_text(strip=True)\n",
    "                tags.append(category)\n",
    "        except KeyError:\n",
    "            tags.append(span.get_text(strip=True))\n",
    "    recent_chapter_info = soup.find(\n",
    "        \"div\", attrs={\"class\": \"book-info--chapter-name\"}\n",
    "    ).find(\n",
    "        \"a\", attrs={\"class\": \"global-hover\"}\n",
    "    )\n",
    "    word_count = recent_chapter_info[\"title\"].split(\"字数：\")[1].split()[0]\n",
    "    author = soup.find(\"a\", attrs={\"class\": \"author-info--name\"}).get_text(strip=True)\n",
    "    synopsis = soup.find(\"section\", attrs={\"class\": \"detail-work-info--introduction\"})\n",
    "    for br_tag in synopsis.find_all(\"br\"):\n",
    "        br_tag.replace_with(\"\\n\")\n",
    "    synopsis = synopsis.get_text()\n",
    "    return {\n",
    "        \"title\": title,\n",
    "        \"author\": author,\n",
    "        \"tags\": tags,\n",
    "        \"category\": category,\n",
    "        \"serial_status\": serial_status,\n",
    "        \"word_count\": word_count,\n",
    "        \"publication_date\": None,\n",
    "        \"synopsis\": synopsis,\n",
    "    }\n",
    "\n",
    "scrape_zongheng_with_intro(\"https://www.zongheng.com/detail/325639\")"
   ]
  },
  {
   "cell_type": "code",
   "execution_count": 55,
   "id": "00ca7ced",
   "metadata": {},
   "outputs": [
    {
     "data": {
      "text/plain": [
       "{'title': '见春天',\n",
       " 'author': '纵虎嗅花',\n",
       " 'tags': ['原创', '言情', '近代现代', '爱情', '完结', '花季雨季', '情有独钟', '阴差阳错', '校园', '正剧'],\n",
       " 'serial_status': '完结',\n",
       " 'category': None,\n",
       " 'word_count': 191449,\n",
       " 'published_at': '2021-09-07 12:00:00',\n",
       " 'synopsis': '【实体书已出版，新增3000字番外】\\n\\n--\\n\\u3000\\u3000十五岁的那个夏天，江渡第一次遇见魏清越时，他被一群小混混堵在巷子里暴打，最后，两人一起进了局子。\\n\\n\\u3000\\u3000后来，江渡才知道，打魏清越最凶的那个，是他的亲爸。\\n\\n\\u3000\\u3000孤独的少女，爱上孤独的少年，自然而然，成为那个夏天最隐蔽的秘密。\\n\\n\\u3000\\u3000“而今，在梅中，我遇到的那个人，终会长大，我跟他的所有，皆成文字，北国正芳春。”\\n\\n\\n--\\n文中分享的几首歌，希望大家喜欢，也希望大家能够安静欣赏。'}"
      ]
     },
     "execution_count": 55,
     "metadata": {},
     "output_type": "execute_result"
    }
   ],
   "source": [
    "def scrape_jjwxc(url):\n",
    "    response = requests.get(url)\n",
    "    soup = bs(response.content, \"html.parser\")\n",
    "    title = soup.find(\"span\", attrs={\"itemprop\": \"articleSection\"}).get_text(strip=True)\n",
    "    tags = soup.find(\"span\", attrs={\"itemprop\": \"genre\"}).get_text(strip=True).split(\"-\")\n",
    "    serial_status = soup.find(\"span\", attrs={\"itemprop\": \"updataStatus\"}).get_text(strip=True)\n",
    "    word_count = int(soup.find(\"span\", attrs={\"itemprop\": \"wordCount\"}).get_text(strip=True)[:-1])\n",
    "    tags.append(serial_status)\n",
    "    extra_tags = soup.find_all(\"div\", attrs={\"class\": \"smallreadbody\"})\n",
    "    for div in extra_tags:\n",
    "        if div.find(\"span\") is not None:\n",
    "            extra = div.find_all(\"a\", attrs={\"style\": \"text-decoration:none;color: red;\"})\n",
    "            for a in extra:\n",
    "                tags.append(a.get_text(strip=True))\n",
    "    author = soup.find(\"span\", attrs={\"itemprop\": \"author\"}).get_text(strip=True)\n",
    "    first_chapter_row = soup.find(\"tr\", attrs={\"itemprop\": \"chapter\"})\n",
    "    published_at = first_chapter_row.find_all(\"td\")[-1][\"title\"].split(\"章节首发时间：\")[1]\n",
    "    synopsis = soup.find(\"div\", attrs={\"id\": \"novelintro\"})\n",
    "    for br_tag in synopsis.find_all(\"br\"):\n",
    "        br_tag.replace_with(\"\\n\")\n",
    "    synopsis = synopsis.get_text()\n",
    "    return {\n",
    "        \"title\": title,\n",
    "        \"author\": author,\n",
    "        \"tags\": tags,\n",
    "        \"serial_status\": serial_status,\n",
    "        \"category\": None,\n",
    "        \"word_count\": word_count,\n",
    "        \"published_at\": published_at,\n",
    "        \"synopsis\": synopsis,\n",
    "    }\n",
    "\n",
    "scrape_jjwxc(\"https://www.jjwxc.net/onebook.php?novelid=6079968\")"
   ]
  },
  {
   "cell_type": "code",
   "execution_count": 10,
   "id": "4a60d74a",
   "metadata": {},
   "outputs": [],
   "source": [
    "def scrape_17k(url):\n",
    "    response = requests.get(url)\n",
    "    soup = bs(response.content, \"html.parser\")"
   ]
  },
  {
   "cell_type": "code",
   "execution_count": 11,
   "id": "6b9a7439",
   "metadata": {},
   "outputs": [],
   "source": [
    "def scrape_qidian(url):\n",
    "    response = requests.get(url)\n",
    "    soup = bs(response.content, \"html.parser\")"
   ]
  },
  {
   "cell_type": "markdown",
   "id": "45fee4b2",
   "metadata": {},
   "source": [
    "# Japanese"
   ]
  },
  {
   "cell_type": "code",
   "execution_count": 57,
   "id": "5ef4c1f0",
   "metadata": {},
   "outputs": [],
   "source": [
    "syosetu_genre_map = {\n",
    "    0: \"未選択〔未選択〕\",\n",
    "    101: \"異世界〔恋愛〕\",\n",
    "    102: \"現実世界〔恋愛〕\",\n",
    "    201: \"ハイファンタジー〔ファンタジー〕\",\n",
    "    202: \"ローファンタジー〔ファンタジー〕\",\n",
    "    301: \"純文学〔文芸〕\",\n",
    "    302: \"ヒューマンドラマ〔文芸〕\",\n",
    "    303: \"歴史〔文芸〕\",\n",
    "    304: \"推理〔文芸〕\",\n",
    "    305: \"ホラー〔文芸〕\",\n",
    "    306: \"アクション〔文芸〕\",\n",
    "    307: \"コメディー〔文芸〕\",\n",
    "    401: \"VRゲーム〔SF〕\",\n",
    "    402: \"宇宙〔SF〕\",\n",
    "    403: \"空想科学〔SF〕\",\n",
    "    404: \"パニック〔SF〕\",\n",
    "    9901: \"童話〔その他〕\",\n",
    "    9902: \"詩〔その他〕\",\n",
    "    9903: \"エッセイ〔その他〕\",\n",
    "    9904: \"リプレイ〔その他〕\",\n",
    "    9999: \"その他〔その他〕\",\n",
    "    9801: \"ノンジャンル〔ノンジャンル〕\",\n",
    "}\n",
    "\n",
    "syosetsu_nocgenre_map = {\n",
    "    1: \"ノクターンノベルズ(男性向け)\",\n",
    "    2: \"ムーンライトノベルズ(女性向け)\",\n",
    "    3: \"ムーンライトノベルズ(BL)\",\n",
    "    4: \"ミッドナイトノベルズ(大人向け)\",\n",
    "}\n",
    "\n",
    "def syosetsu(ncode):\n",
    "    response = requests.get(f\"https://api.syosetu.com/novelapi/api/?out=json&ncode={ncode}\").json()[1]\n",
    "    return_me = {\n",
    "        \"title\": response[\"title\"],\n",
    "        \"author\": response[\"writer\"],\n",
    "        \"tags\": response[\"keyword\"].split(),\n",
    "        \"category\": syosetu_genre_map[response[\"genre\"]],\n",
    "        \"serial_status\": \"連載中\" if response[\"novel_type\"] == 1 and response[\"end\"] == 1 else \"完結済\",\n",
    "        \"word_count\": response[\"length\"],\n",
    "        \"published_at\": response[\"general_firstup\"],\n",
    "        \"chapters\": response[\"general_all_no\"],\n",
    "        \"synopsis\": response[\"story\"],\n",
    "    }\n",
    "    return_me[\"tags\"].append(return_me[\"category\"])\n",
    "    return return_me\n",
    "\n",
    "def syosetsu_r18(ncode):\n",
    "    response = requests.get(f\"https://api.syosetu.com/novel18api/api/?out=json&ncode={ncode}\").json()[1]\n",
    "    return_me = {\n",
    "        \"title\": response[\"title\"],\n",
    "        \"author\": response[\"writer\"],\n",
    "        \"tags\": response[\"keyword\"].split(),\n",
    "        \"category\": syosetsu_nocgenre_map[response[\"nocgenre\"]],\n",
    "        \"serial_status\": \"連載中\" if response[\"novel_type\"] == 1 and response[\"end\"] == 1 else \"完結済\",\n",
    "        \"word_count\": response[\"length\"],\n",
    "        \"published_at\": response[\"general_firstup\"],\n",
    "        \"chapters\": response[\"general_all_no\"],\n",
    "        \"synopsis\": response[\"story\"],\n",
    "    }\n",
    "    return_me[\"tags\"].append(return_me[\"category\"])\n",
    "    return return_me"
   ]
  },
  {
   "cell_type": "code",
   "execution_count": 58,
   "id": "098529c4",
   "metadata": {},
   "outputs": [
    {
     "data": {
      "text/plain": [
       "{'title': '異界冒険譚',\n",
       " 'author': 'とーふ',\n",
       " 'tags': ['異世界転移',\n",
       "  'ギャグ',\n",
       "  'シリアス',\n",
       "  'ほのぼの',\n",
       "  '男主人公',\n",
       "  '冒険',\n",
       "  '日常',\n",
       "  'ハッピーエンド',\n",
       "  'ラブコメ',\n",
       "  'バトル',\n",
       "  '聖女',\n",
       "  'ハイファンタジー〔ファンタジー〕'],\n",
       " 'category': 'ハイファンタジー〔ファンタジー〕',\n",
       " 'serial_status': '連載中',\n",
       " 'word_count': 849421,\n",
       " 'published_at': '2025-01-01 18:10:00',\n",
       " 'chapters': 273,\n",
       " 'synopsis': '少年の願いはただ一つ。\\n妹の幸福であった。\\n\\n病弱な妹が、\\n自分の足で歩いて、笑顔で日々を送る。\\n\\nただ、それだけが少年の願いであった。\\n\\n故に……挑む。\\n自らが住む世界とは異なる世界。\\n\\n異世界へと――\\n'}"
      ]
     },
     "execution_count": 58,
     "metadata": {},
     "output_type": "execute_result"
    }
   ],
   "source": [
    "syosetsu(\"n7466jx\")"
   ]
  },
  {
   "cell_type": "code",
   "execution_count": 59,
   "id": "5ae96235",
   "metadata": {},
   "outputs": [
    {
     "data": {
      "text/plain": [
       "{'title': 'とんずらした兄のことは許さないけれど、兄の元婚約者と幸せな家庭を築いた僕の話。',\n",
       " 'author': '葵ふたば',\n",
       " 'tags': ['アイリスIF7大賞',\n",
       "  '貴族',\n",
       "  '鉄道',\n",
       "  '恋愛',\n",
       "  '結婚',\n",
       "  '婚約破棄',\n",
       "  '駆け落ち',\n",
       "  'プロポーズ',\n",
       "  '円満',\n",
       "  '異世界〔恋愛〕'],\n",
       " 'category': '異世界〔恋愛〕',\n",
       " 'serial_status': '完結済',\n",
       " 'word_count': 18632,\n",
       " 'published_at': '2025-09-19 09:53:42',\n",
       " 'chapters': 1,\n",
       " 'synopsis': '\\n侯爵家の三男として生まれた僕は、国営の鉄道会社に就職して機関士としての人生を歩んでいた。\\nけれどもある日突然、実家へと連れ戻されてしまう。\\nどうやら次男である僕の兄が、婚約者の居る身でありながら平民の女と駆け落ちしたのだという。\\n僕は兄に代わって父の持つ爵位のひとつを継承するどころか、兄の元婚約者のお嬢さんとも仲を深めなくてはならなくなった。\\n\\nお嬢さんの家族は気さくで優しいし、なんと言っても、お嬢さんの実家周りには私設のトロッコ列車が走っている。鉄道好きとしてこれを堪能しない手はない！\\n\\nでもお嬢さんは、\\n何もかもが付き焼き刃でハリボテ貴族な僕なんかと結婚するには、申し訳ないくらいに素敵な女性だ。\\n身勝手な兄につけられた心の傷は深いだろう。\\nだからこそ、彼女には幸せな未来を選び取って欲しい…。\\n\\nこれは煤ぶった僕が色んな人から尻を叩かれながらも、素敵なお嬢さんと幸福に至るひと欠片のお話。\\n\\n'}"
      ]
     },
     "execution_count": 59,
     "metadata": {},
     "output_type": "execute_result"
    }
   ],
   "source": [
    "# Short stories only have 1 chapter and their serial status will just be marked as completed\n",
    "syosetsu(\"n1145lc\")"
   ]
  },
  {
   "cell_type": "code",
   "execution_count": 60,
   "id": "e2131540",
   "metadata": {},
   "outputs": [
    {
     "data": {
      "text/plain": [
       "{'title': '王太子妃になんてなりたくない！！',\n",
       " 'author': '月神サキ',\n",
       " 'tags': ['残酷な描写あり',\n",
       "  '異世界転生',\n",
       "  '異世界転移',\n",
       "  'ハッピーエンド',\n",
       "  'R15',\n",
       "  'ファンタジー',\n",
       "  '恋愛',\n",
       "  '美形',\n",
       "  '女性視点',\n",
       "  '処女',\n",
       "  '王子',\n",
       "  '執着',\n",
       "  'らぶえっち',\n",
       "  '溺愛',\n",
       "  '男性視点',\n",
       "  '腹黒',\n",
       "  'ときどきコメディ',\n",
       "  '絶倫',\n",
       "  'ムーンライトノベルズ(女性向け)'],\n",
       " 'category': 'ムーンライトノベルズ(女性向け)',\n",
       " 'serial_status': '連載中',\n",
       " 'word_count': 2883021,\n",
       " 'published_at': '2014-09-24 16:58:30',\n",
       " 'chapters': 814,\n",
       " 'synopsis': '※コミカライズ連載中！\\u3000\\n※黒木捺先生版の王太子妃コミカライズは、2022/10/28連載終了。\\n※続編『婚約者編』が、鴨野れな先生作画で2022/11/25より始まりました。ゼロサムオンラインにて毎月第四金曜日更新です。\\n※黒木捺先生の無印版1～3巻（完結）がゼロサムコミックスにて発売中です。\\n※鴨野れな先生作画の『婚約者編』1～3巻も発売中です。\\n※小説版は、一迅社様メリッサレーベルより四六版、文庫版、各全十巻が発売中です。\\n※続編『王太子妃編』全十巻が四六版、文庫版にて発売中です。\\n※更に続編『王妃編』1巻が発売中。2巻は2025／08／01発売予定です。\\n\\nかつては日本人。転生したと思ったら、公爵令嬢。\\nちょっと待って婚約者は王太子？\\nいくら美形だろうと、一夫多妻の王族のもとになんて絶対に嫁ぎたくない。\\n何とか婚約破棄を考えてリディが思いついたのは、あるとんでもないこと。\\n彼女の計画通りことはうまく運ぶのか。\\n\\n※なんちゃって設定で軽く書いていますので、設定の甘さ等、つっこみは入れない方向でお願いします。\\n※『婚約者編』『王太子妃編』完結しました。『王妃編』連載中です。\\n\\n\\n'}"
      ]
     },
     "execution_count": 60,
     "metadata": {},
     "output_type": "execute_result"
    }
   ],
   "source": [
    "syosetsu_r18(\"n6752ch\")"
   ]
  }
 ],
 "metadata": {
  "kernelspec": {
   "display_name": "notebooks",
   "language": "python",
   "name": "python3"
  },
  "language_info": {
   "codemirror_mode": {
    "name": "ipython",
    "version": 3
   },
   "file_extension": ".py",
   "mimetype": "text/x-python",
   "name": "python",
   "nbconvert_exporter": "python",
   "pygments_lexer": "ipython3",
   "version": "3.13.7"
  }
 },
 "nbformat": 4,
 "nbformat_minor": 5
}
